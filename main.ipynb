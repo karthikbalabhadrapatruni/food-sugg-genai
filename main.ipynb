{
 "cells": [
  {
   "attachments": {},
   "cell_type": "markdown",
   "metadata": {},
   "source": [
    "# Baking with the Gemini API\n",
    "\n",
    "To get started, [get an API key](https://g.co/ai/idxGetGeminiKey) and replace the word `TODO` below with your API key:"
   ]
  },
  {
   "cell_type": "code",
   "execution_count": 7,
   "metadata": {},
   "outputs": [],
   "source": [
    "import os\n",
    "os.environ['GOOGLE_API_KEY'] = 'apiToken';\n",
    "\n",
    "if not os.environ[\"GOOGLE_API_KEY\"]:\n",
    "    print({ \"error\": '''\n",
    "        To get started, get an GOOGLE_API_KEY and enter it in the first step\n",
    "    '''.replace('\\n', '') })"
   ]
  },
  {
   "attachments": {},
   "cell_type": "markdown",
   "metadata": {},
   "source": [
    "Once you're done, create a text prompt here:"
   ]
  },
  {
   "cell_type": "markdown",
   "metadata": {},
   "source": []
  },
  {
   "cell_type": "code",
   "execution_count": 8,
   "metadata": {},
   "outputs": [],
   "source": [
    "prompt = 'You are a dietician . Provide a diet and its recipe for hair fall problem'"
   ]
  },
  {
   "attachments": {},
   "cell_type": "markdown",
   "metadata": {},
   "source": [
    "And finally, call the Gemini API using LangChain. [See the docs](https://github.com/langchain-ai/langchain/blob/master/libs/partners/google-genai/langchain_google_genai/__init__.py)"
   ]
  },
  {
   "cell_type": "code",
   "execution_count": 10,
   "metadata": {},
   "outputs": [
    {
     "data": {
      "text/markdown": [
       "**Diet for Hair Fall**\n",
       "\n",
       "Hair fall can be caused by a variety of factors, including genetics, hormones, stress, and diet. A healthy diet can help to improve the health of your hair and reduce hair fall.\n",
       "\n",
       "**Foods to eat**\n",
       "\n",
       "* **Protein:** Protein is essential for hair growth. Good sources of protein include lean meats, poultry, fish, beans, and lentils.\n",
       "* **Iron:** Iron is also important for hair growth. Good sources of iron include red meat, spinach, and fortified cereals.\n",
       "* **Vitamin C:** Vitamin C is necessary for the production of collagen, a protein that is found in hair. Good sources of vitamin C include citrus fruits, strawberries, and broccoli.\n",
       "* **Zinc:** Zinc is a mineral that is involved in hair growth. Good sources of zinc include oysters, beef, and nuts.\n",
       "* **Omega-3 fatty acids:** Omega-3 fatty acids are essential fats that help to keep hair healthy and shiny. Good sources of omega-3 fatty acids include salmon, tuna, and flaxseed.\n",
       "\n",
       "**Foods to avoid**\n",
       "\n",
       "* **Saturated and trans fats:** Saturated and trans fats can damage hair and lead to hair fall. Limit your intake of these fats by avoiding processed foods, fried foods, and fatty meats.\n",
       "* **Sugar:** Sugar can cause inflammation, which can lead to hair fall. Limit your intake of sugar by avoiding sugary drinks, candy, and processed foods.\n",
       "* **Alcohol:** Alcohol can dehydrate hair and lead to hair fall. Limit your intake of alcohol to one drink per day for women and two drinks per day for men.\n",
       "\n",
       "**Sample Diet**\n",
       "\n",
       "Here is a sample diet that is rich in the nutrients that are essential for healthy hair:\n",
       "\n",
       "* **Breakfast:** Oatmeal with berries and nuts\n",
       "* **Lunch:** Salad with grilled chicken, quinoa, and vegetables\n",
       "* **Dinner:** Salmon with roasted vegetables\n",
       "* **Snacks:** Fruit, yogurt, or nuts\n",
       "\n",
       "**Recipe for Hair Fall**\n",
       "\n",
       "Here is a recipe for a smoothie that is rich in the nutrients that are essential for healthy hair:\n",
       "\n",
       "**Ingredients:**\n",
       "\n",
       "* 1 cup spinach\n",
       "* 1 cup blueberries\n",
       "* 1/2 cup strawberries\n",
       "* 1/2 cup yogurt\n",
       "* 1/4 cup milk\n",
       "* 1 tablespoon almond butter\n",
       "* 1 teaspoon honey\n",
       "\n",
       "**Instructions:**\n",
       "\n",
       "1. Combine all of the ingredients in a blender and blend until smooth.\n",
       "2. Enjoy!\n",
       "\n",
       "**Image of Smoothie**\n",
       "\n",
       "[Image of a smoothie made with spinach, blueberries, strawberries, yogurt, milk, almond butter, and honey]"
      ],
      "text/plain": [
       "<IPython.core.display.Markdown object>"
      ]
     },
     "metadata": {},
     "output_type": "display_data"
    }
   ],
   "source": [
    "from langchain_core.messages import HumanMessage\n",
    "from langchain_google_genai import ChatGoogleGenerativeAI\n",
    "from IPython.display import Markdown, clear_output, display\n",
    "\n",
    "model = ChatGoogleGenerativeAI(model=\"gemini-pro\")\n",
    "message = HumanMessage(content=[\n",
    "    { 'type': 'text', 'text': prompt }\n",
    "])\n",
    "response = model.stream([message])\n",
    "\n",
    "buffer = []\n",
    "for chunk in response:\n",
    "    buffer.append(chunk.content)\n",
    "    clear_output()\n",
    "    display(Markdown(''.join(buffer)))"
   ]
  }
 ],
 "metadata": {
  "kernelspec": {
   "display_name": "out",
   "language": "python",
   "name": "python3"
  },
  "language_info": {
   "codemirror_mode": {
    "name": "ipython",
    "version": 3
   },
   "file_extension": ".py",
   "mimetype": "text/x-python",
   "name": "python",
   "nbconvert_exporter": "python",
   "pygments_lexer": "ipython3",
   "version": "3.11.8"
  },
  "orig_nbformat": 4
 },
 "nbformat": 4,
 "nbformat_minor": 2
}
